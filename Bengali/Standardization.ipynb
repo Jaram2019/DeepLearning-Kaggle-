{
 "cells": [
  {
   "cell_type": "code",
   "execution_count": 1,
   "metadata": {},
   "outputs": [],
   "source": [
    "from __future__ import absolute_import, division, print_function, unicode_literals\n",
    "\n",
    "import cv2\n",
    "import numpy as np\n",
    "import matplotlib.pyplot as plt\n",
    "import os\n",
    "import pandas as pd\n",
    "import time\n",
    "import tqdm.notebook as tqdm\n",
    "\n",
    "from sklearn.preprocessing import StandardScaler\n",
    "from sklearn.model_selection import train_test_split\n",
    "from pathlib import Path\n",
    "\n",
    "%matplotlib inline\n",
    "\n",
    "\n",
    "import tensorflow as tf\n",
    "from tensorflow.keras.layers import BatchNormalization, Conv2D, Dense, Dropout, Flatten, Input, MaxPool2D\n"
   ]
  },
  {
   "cell_type": "code",
   "execution_count": 2,
   "metadata": {},
   "outputs": [],
   "source": [
    "IMG_HEIGHT = 137\n",
    "IMG_WIDTH = 236"
   ]
  },
  {
   "cell_type": "code",
   "execution_count": 3,
   "metadata": {},
   "outputs": [],
   "source": [
    "PATH = \"../data/bengali_centered/new_train_data_with_new_label.csv\""
   ]
  },
  {
   "cell_type": "code",
   "execution_count": 4,
   "metadata": {},
   "outputs": [],
   "source": [
    "train_df = pd.read_csv(PATH)"
   ]
  },
  {
   "cell_type": "code",
   "execution_count": 5,
   "metadata": {},
   "outputs": [
    {
     "data": {
      "text/html": [
       "<div>\n",
       "<style scoped>\n",
       "    .dataframe tbody tr th:only-of-type {\n",
       "        vertical-align: middle;\n",
       "    }\n",
       "\n",
       "    .dataframe tbody tr th {\n",
       "        vertical-align: top;\n",
       "    }\n",
       "\n",
       "    .dataframe thead th {\n",
       "        text-align: right;\n",
       "    }\n",
       "</style>\n",
       "<table border=\"1\" class=\"dataframe\">\n",
       "  <thead>\n",
       "    <tr style=\"text-align: right;\">\n",
       "      <th></th>\n",
       "      <th>Unnamed: 0</th>\n",
       "      <th>image_id</th>\n",
       "      <th>grapheme_root</th>\n",
       "      <th>vowel_diacritic</th>\n",
       "      <th>consonant_diacritic</th>\n",
       "      <th>grapheme</th>\n",
       "      <th>preprocessed_image_path</th>\n",
       "      <th>combined_word</th>\n",
       "    </tr>\n",
       "  </thead>\n",
       "  <tbody>\n",
       "    <tr>\n",
       "      <th>0</th>\n",
       "      <td>0</td>\n",
       "      <td>Train_0</td>\n",
       "      <td>15</td>\n",
       "      <td>9</td>\n",
       "      <td>5</td>\n",
       "      <td>ক্ট্রো</td>\n",
       "      <td>../data/bengali_centered/dataset_1/Train_0.jpg</td>\n",
       "      <td>15095</td>\n",
       "    </tr>\n",
       "    <tr>\n",
       "      <th>1</th>\n",
       "      <td>1</td>\n",
       "      <td>Train_1</td>\n",
       "      <td>159</td>\n",
       "      <td>0</td>\n",
       "      <td>0</td>\n",
       "      <td>হ</td>\n",
       "      <td>../data/bengali_centered/dataset_1/Train_1.jpg</td>\n",
       "      <td>159000</td>\n",
       "    </tr>\n",
       "    <tr>\n",
       "      <th>2</th>\n",
       "      <td>2</td>\n",
       "      <td>Train_2</td>\n",
       "      <td>22</td>\n",
       "      <td>3</td>\n",
       "      <td>5</td>\n",
       "      <td>খ্রী</td>\n",
       "      <td>../data/bengali_centered/dataset_1/Train_2.jpg</td>\n",
       "      <td>22035</td>\n",
       "    </tr>\n",
       "    <tr>\n",
       "      <th>3</th>\n",
       "      <td>3</td>\n",
       "      <td>Train_3</td>\n",
       "      <td>53</td>\n",
       "      <td>2</td>\n",
       "      <td>2</td>\n",
       "      <td>র্টি</td>\n",
       "      <td>../data/bengali_centered/dataset_1/Train_3.jpg</td>\n",
       "      <td>53022</td>\n",
       "    </tr>\n",
       "    <tr>\n",
       "      <th>4</th>\n",
       "      <td>4</td>\n",
       "      <td>Train_4</td>\n",
       "      <td>71</td>\n",
       "      <td>9</td>\n",
       "      <td>5</td>\n",
       "      <td>থ্রো</td>\n",
       "      <td>../data/bengali_centered/dataset_1/Train_4.jpg</td>\n",
       "      <td>71095</td>\n",
       "    </tr>\n",
       "  </tbody>\n",
       "</table>\n",
       "</div>"
      ],
      "text/plain": [
       "   Unnamed: 0 image_id  grapheme_root  vowel_diacritic  consonant_diacritic  \\\n",
       "0           0  Train_0             15                9                    5   \n",
       "1           1  Train_1            159                0                    0   \n",
       "2           2  Train_2             22                3                    5   \n",
       "3           3  Train_3             53                2                    2   \n",
       "4           4  Train_4             71                9                    5   \n",
       "\n",
       "  grapheme                         preprocessed_image_path  combined_word  \n",
       "0   ক্ট্রো  ../data/bengali_centered/dataset_1/Train_0.jpg          15095  \n",
       "1        হ  ../data/bengali_centered/dataset_1/Train_1.jpg         159000  \n",
       "2     খ্রী  ../data/bengali_centered/dataset_1/Train_2.jpg          22035  \n",
       "3     র্টি  ../data/bengali_centered/dataset_1/Train_3.jpg          53022  \n",
       "4     থ্রো  ../data/bengali_centered/dataset_1/Train_4.jpg          71095  "
      ]
     },
     "execution_count": 5,
     "metadata": {},
     "output_type": "execute_result"
    }
   ],
   "source": [
    "train_df.head()"
   ]
  },
  {
   "cell_type": "code",
   "execution_count": 6,
   "metadata": {},
   "outputs": [
    {
     "data": {
      "text/plain": [
       "'\\n\\n'"
      ]
     },
     "execution_count": 6,
     "metadata": {},
     "output_type": "execute_result"
    }
   ],
   "source": [
    "train_path, test_path, train_root, test_root, train_vowel, test_vowel, train_consonant, test_consonant = train_test_split(\n",
    "    train_df['preprocessed_image_path'],\n",
    "    train_df['grapheme_root'],\n",
    "    train_df['vowel_diacritic'],\n",
    "    train_df['consonant_diacritic'],\n",
    "    random_state=42,\n",
    "    test_size=0.3\n",
    ")\n",
    "\n",
    "\"\"\"\n",
    "\n",
    "\"\"\""
   ]
  },
  {
   "cell_type": "code",
   "execution_count": 7,
   "metadata": {},
   "outputs": [
    {
     "data": {
      "text/plain": [
       "119898    ../data/bengali_centered/dataset_3/Train_11989...\n",
       "182110    ../data/bengali_centered/dataset_4/Train_18211...\n",
       "146852    ../data/bengali_centered/dataset_3/Train_14685...\n",
       "70522     ../data/bengali_centered/dataset_2/Train_70522...\n",
       "69563     ../data/bengali_centered/dataset_2/Train_69563...\n",
       "                                ...                        \n",
       "119879    ../data/bengali_centered/dataset_3/Train_11987...\n",
       "103694    ../data/bengali_centered/dataset_3/Train_10369...\n",
       "131932    ../data/bengali_centered/dataset_3/Train_13193...\n",
       "146867    ../data/bengali_centered/dataset_3/Train_14686...\n",
       "121958    ../data/bengali_centered/dataset_3/Train_12195...\n",
       "Name: preprocessed_image_path, Length: 140588, dtype: object"
      ]
     },
     "execution_count": 7,
     "metadata": {},
     "output_type": "execute_result"
    }
   ],
   "source": [
    "train_path"
   ]
  },
  {
   "cell_type": "code",
   "execution_count": 8,
   "metadata": {},
   "outputs": [],
   "source": [
    "def path_to_img(path_list):\n",
    "    img_list = list()\n",
    "    for path in path_list:\n",
    "        img = cv2.imread(path)\n",
    "        img = cv2.cvtColor(img, cv2.COLOR_BGR2GRAY)\n",
    "        img = img.flatten()\n",
    "\n",
    "        img_list.append(img)\n",
    "        \n",
    "    return np.asarray(img_list)\n",
    "    "
   ]
  },
  {
   "cell_type": "code",
   "execution_count": 9,
   "metadata": {},
   "outputs": [],
   "source": [
    "import pickle"
   ]
  },
  {
   "cell_type": "code",
   "execution_count": 10,
   "metadata": {},
   "outputs": [],
   "source": [
    "divide_num = 14"
   ]
  },
  {
   "cell_type": "code",
   "execution_count": 11,
   "metadata": {},
   "outputs": [
    {
     "data": {
      "application/vnd.jupyter.widget-view+json": {
       "model_id": "9a2bc605401f46169ddd3c16d88ae360",
       "version_major": 2,
       "version_minor": 0
      },
      "text/plain": [
       "HBox(children=(FloatProgress(value=0.0, max=14.0), HTML(value='')))"
      ]
     },
     "metadata": {},
     "output_type": "display_data"
    },
    {
     "name": "stdout",
     "output_type": "stream",
     "text": [
      "\n"
     ]
    }
   ],
   "source": [
    "batch_size = len(train_path) // divide_num\n",
    "scl = StandardScaler()\n",
    "\n",
    "for idx in tqdm.tqdm(range(divide_num)):\n",
    "    # 마지막 인덱스가 아닐 때\n",
    "    if idx != divide_num - 1:\n",
    "        train_img_list = path_to_img(train_path[batch_size * idx:batch_size * (idx + 1)])\n",
    "    # 마지막 인덱스 일 때\n",
    "    else:\n",
    "        train_img_list = path_to_img(train_path[batch_size * idx:])\n",
    "    \n",
    "    scl.fit(train_img_list)\n",
    "    \n",
    "    del train_img_list"
   ]
  },
  {
   "cell_type": "code",
   "execution_count": 16,
   "metadata": {},
   "outputs": [],
   "source": [
    "std = scl.scale_\n",
    "mean = scl.mean_\n",
    "\n",
    "parameters = (std, mean)\n",
    "\n",
    "with open(\"./standard_scaler_parameters.txt\", 'wb') as file:\n",
    "    pickle.dump(parameters, file)"
   ]
  },
  {
   "cell_type": "code",
   "execution_count": 20,
   "metadata": {},
   "outputs": [
    {
     "data": {
      "application/vnd.jupyter.widget-view+json": {
       "model_id": "71cd0bc2cda04fe19e2e214cd189fcd3",
       "version_major": 2,
       "version_minor": 0
      },
      "text/plain": [
       "HBox(children=(FloatProgress(value=0.0, max=20.0), HTML(value='')))"
      ]
     },
     "metadata": {},
     "output_type": "display_data"
    },
    {
     "name": "stdout",
     "output_type": "stream",
     "text": [
      "\n"
     ]
    }
   ],
   "source": [
    "entire_path_list = train_df['preprocessed_image_path']\n",
    "divide_num = 20\n",
    "\n",
    "for idx in tqdm.tqdm(range(divide_num)):\n",
    "    # 마지막 인덱스가 아닐 때\n",
    "    if idx != divide_num - 1:\n",
    "        train_img_list = path_to_img(entire_path_list[batch_size * idx:batch_size * (idx + 1)])\n",
    "    # 마지막 인덱스 일 때\n",
    "    else:\n",
    "        train_img_list = path_to_img(entire_path_list[batch_size * idx:])\n",
    "    \n",
    "    scaled_img = scl.transform(train_img_list)\n",
    "    \n",
    "    with open(f\"./scaled_img_{idx}.pkl\", 'wb') as file:\n",
    "        pickle.dump(scaled_img, file)\n",
    "    \n",
    "    del scaled_img, train_img_list"
   ]
  },
  {
   "cell_type": "code",
   "execution_count": 23,
   "metadata": {},
   "outputs": [
    {
     "name": "stdout",
     "output_type": "stream",
     "text": [
      "(32332,)\n"
     ]
    }
   ],
   "source": [
    "SCALED_IMG_DIR_PATH = \"../data/scaled_images\"\n",
    "\n",
    "with open(SCALED_IMG_DIR_PATH + \"/scaled_img_0.pkl\", \"rb\") as f:\n",
    "    scaled_img_list = pickle.load(f)\n",
    "    \n",
    "print(scaled_img_list[0].shape)"
   ]
  },
  {
   "cell_type": "code",
   "execution_count": 25,
   "metadata": {},
   "outputs": [],
   "source": [
    "img = scaled_img_list[0].reshape(IMG_HEIGHT, IMG_WIDTH)"
   ]
  },
  {
   "cell_type": "code",
   "execution_count": 26,
   "metadata": {},
   "outputs": [
    {
     "data": {
      "image/png": "[encoded data removed]",
      "text/plain": [
       "<Figure size 432x288 with 1 Axes>"
      ]
     },
     "metadata": {
      "needs_background": "light"
     },
     "output_type": "display_data"
    }
   ],
   "source": [
    "plt.imshow(img, cmap='gray')\n",
    "plt.show()"
   ]
  },
  {
   "cell_type": "code",
   "execution_count": null,
   "metadata": {},
   "outputs": [],
   "source": []
  },
  {
   "cell_type": "code",
   "execution_count": null,
   "metadata": {},
   "outputs": [],
   "source": []
  },
  {
   "cell_type": "code",
   "execution_count": 15,
   "metadata": {},
   "outputs": [
    {
     "data": {
      "text/plain": [
       "0            ../data/bengali_centered/dataset_1/Train_0.jpg\n",
       "1            ../data/bengali_centered/dataset_1/Train_1.jpg\n",
       "2            ../data/bengali_centered/dataset_1/Train_2.jpg\n",
       "3            ../data/bengali_centered/dataset_1/Train_3.jpg\n",
       "4            ../data/bengali_centered/dataset_1/Train_4.jpg\n",
       "                                ...                        \n",
       "200835    ../data/bengali_centered/dataset_4/Train_20083...\n",
       "200836    ../data/bengali_centered/dataset_4/Train_20083...\n",
       "200837    ../data/bengali_centered/dataset_4/Train_20083...\n",
       "200838    ../data/bengali_centered/dataset_4/Train_20083...\n",
       "200839    ../data/bengali_centered/dataset_4/Train_20083...\n",
       "Name: preprocessed_image_path, Length: 200840, dtype: object"
      ]
     },
     "execution_count": 15,
     "metadata": {},
     "output_type": "execute_result"
    }
   ],
   "source": [
    "divide_num = 14\n",
    "for idx in tqdm.tqdm(range(divide_num)):\n",
    "    # 마지막 인덱스가 아닐 때\n",
    "    if idx != divide_num - 1:\n",
    "        train_img_list = path_to_img(train_path[batch_size * idx:batch_size * (idx + 1)])\n",
    "    # 마지막 인덱스 일 때\n",
    "    else:\n",
    "        train_img_list = path_to_img(train_path[batch_size * idx:])\n",
    "    \n",
    "    scl.fit(train_img_list)\n",
    "    \n",
    "    del train_img_list\n",
    "\n",
    "train_df['preprocessed_image_path']"
   ]
  },
  {
   "cell_type": "code",
   "execution_count": null,
   "metadata": {},
   "outputs": [],
   "source": []
  },
  {
   "cell_type": "code",
   "execution_count": 12,
   "metadata": {},
   "outputs": [
    {
     "data": {
      "text/plain": [
       "array([0.        , 0.00119498, 0.00089624, ..., 0.        , 0.        ,\n",
       "       0.        ])"
      ]
     },
     "execution_count": 12,
     "metadata": {},
     "output_type": "execute_result"
    }
   ],
   "source": []
  },
  {
   "cell_type": "code",
   "execution_count": null,
   "metadata": {},
   "outputs": [],
   "source": []
  },
  {
   "cell_type": "code",
   "execution_count": null,
   "metadata": {},
   "outputs": [],
   "source": []
  },
  {
   "cell_type": "code",
   "execution_count": null,
   "metadata": {},
   "outputs": [],
   "source": [
    "standard_scaler.fit(train_img_list)"
   ]
  },
  {
   "cell_type": "code",
   "execution_count": null,
   "metadata": {},
   "outputs": [],
   "source": [
    "train_img_list = standard_scaler.fit_transform(train_img_list[:])"
   ]
  },
  {
   "cell_type": "code",
   "execution_count": null,
   "metadata": {},
   "outputs": [],
   "source": [
    "with open('train_img_list.txt', 'wb') as f:\n",
    "    pickle.dump(train_img_list, f)"
   ]
  },
  {
   "cell_type": "code",
   "execution_count": null,
   "metadata": {},
   "outputs": [],
   "source": [
    "del train_img_list"
   ]
  },
  {
   "cell_type": "code",
   "execution_count": 47,
   "metadata": {},
   "outputs": [],
   "source": [
    "test_img_list = path_to_img(test_path)"
   ]
  },
  {
   "cell_type": "code",
   "execution_count": null,
   "metadata": {},
   "outputs": [],
   "source": [
    "with open('test_img_list.txt', 'wb') as f:\n",
    "    pickle.dump(test_img_list, f)"
   ]
  },
  {
   "cell_type": "code",
   "execution_count": null,
   "metadata": {},
   "outputs": [],
   "source": [
    "del test_img_list"
   ]
  },
  {
   "cell_type": "code",
   "execution_count": null,
   "metadata": {},
   "outputs": [],
   "source": [
    "del"
   ]
  },
  {
   "cell_type": "code",
   "execution_count": null,
   "metadata": {},
   "outputs": [],
   "source": [
    "f = \"./standardization_parameter.txt\"\n",
    "\n",
    "with open(f, 'rb') as file:\n",
    "    params = pickle.load(file)\n",
    "\n",
    "scl = StandardScaler(with_mean=params[1], with_std=params[0])\n",
    "scl.fit(train_img_list)\n",
    "std = scl.scale_\n",
    "mean = scl.mean_\n",
    "\n",
    "parameters = (std, mean)\n",
    "\n",
    "with open(f, 'wb') as file:\n",
    "    pickle.dump(parameters, file)\n",
    "    \n"
   ]
  },
  {
   "cell_type": "code",
   "execution_count": null,
   "metadata": {},
   "outputs": [],
   "source": []
  },
  {
   "cell_type": "code",
   "execution_count": null,
   "metadata": {},
   "outputs": [],
   "source": []
  },
  {
   "cell_type": "code",
   "execution_count": null,
   "metadata": {},
   "outputs": [],
   "source": []
  },
  {
   "cell_type": "code",
   "execution_count": 48,
   "metadata": {},
   "outputs": [],
   "source": []
  },
  {
   "cell_type": "code",
   "execution_count": null,
   "metadata": {},
   "outputs": [],
   "source": [
    "test_img_list = standard_scaler.transform(test_img_list)"
   ]
  },
  {
   "cell_type": "code",
   "execution_count": null,
   "metadata": {},
   "outputs": [],
   "source": []
  },
  {
   "cell_type": "code",
   "execution_count": null,
   "metadata": {},
   "outputs": [],
   "source": []
  },
  {
   "cell_type": "code",
   "execution_count": null,
   "metadata": {},
   "outputs": [],
   "source": [
    "with open('train_img_list.txt', 'wb') as f:\n",
    "    pickle.dump(train_img_list, f)\n",
    "\n",
    "with open('test_img_list.txt', 'wb') as f:\n",
    "    pickle.dump(test_img_list, f)"
   ]
  },
  {
   "cell_type": "code",
   "execution_count": null,
   "metadata": {},
   "outputs": [],
   "source": []
  },
  {
   "cell_type": "code",
   "execution_count": null,
   "metadata": {},
   "outputs": [],
   "source": []
  },
  {
   "cell_type": "code",
   "execution_count": null,
   "metadata": {},
   "outputs": [],
   "source": []
  },
  {
   "cell_type": "code",
   "execution_count": 28,
   "metadata": {},
   "outputs": [],
   "source": [
    "tmp = img_list[0].reshape(IMG_HEIGHT, IMG_WIDTH)"
   ]
  },
  {
   "cell_type": "code",
   "execution_count": 29,
   "metadata": {},
   "outputs": [
    {
     "data": {
      "image/png": "[encoded data removed]",
      "text/plain": [
       "<Figure size 432x288 with 1 Axes>"
      ]
     },
     "metadata": {
      "needs_background": "light"
     },
     "output_type": "display_data"
    }
   ],
   "source": [
    "plt.imshow(tmp, cmap='gray')\n",
    "plt.show()"
   ]
  },
  {
   "cell_type": "code",
   "execution_count": null,
   "metadata": {},
   "outputs": [],
   "source": []
  }
 ],
 "metadata": {
  "kernelspec": {
   "display_name": "Python 3",
   "language": "python",
   "name": "python3"
  },
  "language_info": {
   "codemirror_mode": {
    "name": "ipython",
    "version": 3
   },
   "file_extension": ".py",
   "mimetype": "text/x-python",
   "name": "python",
   "nbconvert_exporter": "python",
   "pygments_lexer": "ipython3",
   "version": "3.6.9"
  }
 },
 "nbformat": 4,
 "nbformat_minor": 4
}
